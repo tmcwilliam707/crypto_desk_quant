{
 "cells": [
  {
   "cell_type": "code",
   "execution_count": 13,
   "id": "c37af67c",
   "metadata": {},
   "outputs": [
    {
     "name": "stdout",
     "output_type": "stream",
     "text": [
      "   transaction_id  user_id           timestamp       amount currency  \\\n",
      "0               1     1003 2023-01-01 00:00:00  1875.331000      ETH   \n",
      "1               2     1091 2023-01-01 00:01:00   175.585357      ETH   \n",
      "2               3     1021 2023-01-01 00:02:00   874.848685      ETH   \n",
      "3               4     1039 2023-01-01 00:03:00   923.666164      ETH   \n",
      "4               5     1070 2023-01-01 00:04:00   584.692428      USD   \n",
      "\n",
      "  transaction_type                           location  is_fraud  \n",
      "0         purchase                         Mauritania         0  \n",
      "1         purchase                          Nicaragua         0  \n",
      "2         transfer                               Chad         0  \n",
      "3         purchase  Heard Island and McDonald Islands         0  \n",
      "4         purchase                            Denmark         0  \n"
     ]
    }
   ],
   "source": [
    "import pandas as pd\n",
    "import numpy as np\n",
    "from faker import Faker\n",
    "from collections.abc import Sequence\n",
    "\n",
    "# Initialize Faker for fake data generation\n",
    "fake = Faker()\n",
    "\n",
    "# Generate synthetic transaction data\n",
    "def generate_transaction_data(num_records=10000):\n",
    "    data = {\n",
    "        'transaction_id': range(1, num_records + 1),\n",
    "        'user_id': np.random.randint(1000, 1100, num_records),  # 100 unique users\n",
    "        'timestamp': pd.date_range(start='2023-01-01', periods=num_records, freq='T'),\n",
    "        'amount': np.random.exponential(scale=1000, size=num_records),  # Exponential distribution for amounts\n",
    "        'currency': np.random.choice(['USD', 'EUR', 'BTC', 'ETH'], num_records),\n",
    "        'transaction_type': np.random.choice(['purchase', 'transfer', 'withdrawal'], num_records),\n",
    "        'location': [fake.country() for _ in range(num_records)],\n",
    "        'is_fraud': np.random.choice([0, 1], num_records, p=[0.98, 0.02])  # 2% fraud rate\n",
    "    }\n",
    "    return pd.DataFrame(data)\n",
    "\n",
    "# Generate data\n",
    "transaction_df = generate_transaction_data()\n",
    "print(transaction_df.head())"
   ]
  },
  {
   "cell_type": "code",
   "execution_count": 14,
   "id": "c7ae3094",
   "metadata": {},
   "outputs": [],
   "source": [
    "# Add features\n",
    "transaction_df['hour_of_day'] = transaction_df['timestamp'].dt.hour\n",
    "transaction_df['day_of_week'] = transaction_df['timestamp'].dt.dayofweek\n",
    "\n",
    "# Calculate user-level features\n",
    "user_stats = transaction_df.groupby('user_id').agg({\n",
    "    'amount': ['mean', 'std'],\n",
    "    'transaction_id': 'count'\n",
    "}).reset_index()\n",
    "user_stats.columns = ['user_id', 'mean_amount', 'std_amount', 'transaction_count']\n",
    "\n",
    "# Merge user stats with transaction data\n",
    "transaction_df = transaction_df.merge(user_stats, on='user_id', how='left')\n",
    "\n",
    "# Calculate deviation from mean\n",
    "transaction_df['amount_deviation'] = (transaction_df['amount'] - transaction_df['mean_amount']) / transaction_df['std_amount']\n",
    "transaction_df['amount_deviation'].fillna(0, inplace=True)  # Handle NaN for users with only one transaction"
   ]
  },
  {
   "cell_type": "code",
   "execution_count": 15,
   "id": "7916aa30",
   "metadata": {},
   "outputs": [
    {
     "name": "stdout",
     "output_type": "stream",
     "text": [
      "Confusion Matrix:\n",
      "[[1966    0]\n",
      " [  34    0]]\n",
      "\n",
      "Classification Report:\n",
      "              precision    recall  f1-score   support\n",
      "\n",
      "           0       0.98      1.00      0.99      1966\n",
      "           1       0.00      0.00      0.00        34\n",
      "\n",
      "    accuracy                           0.98      2000\n",
      "   macro avg       0.49      0.50      0.50      2000\n",
      "weighted avg       0.97      0.98      0.97      2000\n",
      "\n"
     ]
    },
    {
     "name": "stderr",
     "output_type": "stream",
     "text": [
      "/Users/taylormcwilliam/anaconda3/lib/python3.11/site-packages/sklearn/metrics/_classification.py:1509: UndefinedMetricWarning: Precision is ill-defined and being set to 0.0 in labels with no predicted samples. Use `zero_division` parameter to control this behavior.\n",
      "  _warn_prf(average, modifier, f\"{metric.capitalize()} is\", len(result))\n",
      "/Users/taylormcwilliam/anaconda3/lib/python3.11/site-packages/sklearn/metrics/_classification.py:1509: UndefinedMetricWarning: Precision is ill-defined and being set to 0.0 in labels with no predicted samples. Use `zero_division` parameter to control this behavior.\n",
      "  _warn_prf(average, modifier, f\"{metric.capitalize()} is\", len(result))\n",
      "/Users/taylormcwilliam/anaconda3/lib/python3.11/site-packages/sklearn/metrics/_classification.py:1509: UndefinedMetricWarning: Precision is ill-defined and being set to 0.0 in labels with no predicted samples. Use `zero_division` parameter to control this behavior.\n",
      "  _warn_prf(average, modifier, f\"{metric.capitalize()} is\", len(result))\n"
     ]
    }
   ],
   "source": [
    "from sklearn.model_selection import train_test_split\n",
    "from sklearn.ensemble import RandomForestClassifier\n",
    "from sklearn.metrics import classification_report, confusion_matrix\n",
    "\n",
    "# Features and target\n",
    "features = ['amount', 'hour_of_day', 'day_of_week', 'amount_deviation', 'transaction_count']\n",
    "X = transaction_df[features]\n",
    "y = transaction_df['is_fraud']\n",
    "\n",
    "# Train-test split\n",
    "X_train, X_test, y_train, y_test = train_test_split(X, y, test_size=0.2, random_state=42)\n",
    "\n",
    "# Train a Random Forest model\n",
    "model = RandomForestClassifier(random_state=42)\n",
    "model.fit(X_train, y_train)\n",
    "\n",
    "# Evaluate the model\n",
    "y_pred = model.predict(X_test)\n",
    "print(\"Confusion Matrix:\")\n",
    "print(confusion_matrix(y_test, y_pred))\n",
    "print(\"\\nClassification Report:\")\n",
    "print(classification_report(y_test, y_pred))"
   ]
  },
  {
   "cell_type": "code",
   "execution_count": 16,
   "id": "13de61e7",
   "metadata": {},
   "outputs": [
    {
     "name": "stdout",
     "output_type": "stream",
     "text": [
      "Model saved as 'fraud_detection_model.pkl'\n"
     ]
    }
   ],
   "source": [
    "from sklearn.ensemble import RandomForestClassifier\n",
    "import pickle\n",
    "\n",
    "# Example: Train a Random Forest model\n",
    "# Replace X_train and y_train with your actual training data\n",
    "model = RandomForestClassifier(random_state=42)\n",
    "model.fit(X_train, y_train)  # Train the model\n",
    "\n",
    "# Save the trained model to a .pkl file\n",
    "with open('fraud_detection_model.pkl', 'wb') as f:\n",
    "    pickle.dump(model, f)\n",
    "\n",
    "print(\"Model saved as 'fraud_detection_model.pkl'\")"
   ]
  },
  {
   "cell_type": "code",
   "execution_count": 20,
   "id": "b99d24cf",
   "metadata": {},
   "outputs": [
    {
     "name": "stdout",
     "output_type": "stream",
     "text": [
      "Model loaded successfully!\n"
     ]
    }
   ],
   "source": [
    "import pickle\n",
    "\n",
    "# Load the trained model\n",
    "with open('fraud_detection_model.pkl', 'rb') as f:\n",
    "    model = pickle.load(f)\n",
    "\n",
    "print(\"Model loaded successfully!\")"
   ]
  },
  {
   "cell_type": "code",
   "execution_count": 22,
   "id": "6065fed2",
   "metadata": {},
   "outputs": [
    {
     "name": "stdout",
     "output_type": "stream",
     "text": [
      "Requirement already satisfied: jupyter in /Users/taylormcwilliam/anaconda3/lib/python3.11/site-packages (1.0.0)\n",
      "Collecting jupyter\n",
      "  Obtaining dependency information for jupyter from https://files.pythonhosted.org/packages/38/64/285f20a31679bf547b75602702f7800e74dbabae36ef324f716c02804753/jupyter-1.1.1-py2.py3-none-any.whl.metadata\n",
      "  Downloading jupyter-1.1.1-py2.py3-none-any.whl.metadata (2.0 kB)\n",
      "Requirement already satisfied: jupyter_client in /Users/taylormcwilliam/anaconda3/lib/python3.11/site-packages (7.4.9)\n",
      "Collecting jupyter_client\n",
      "  Obtaining dependency information for jupyter_client from https://files.pythonhosted.org/packages/11/85/b0394e0b6fcccd2c1eeefc230978a6f8cb0c5df1e4cd3e7625735a0d7d1e/jupyter_client-8.6.3-py3-none-any.whl.metadata\n",
      "  Using cached jupyter_client-8.6.3-py3-none-any.whl.metadata (8.3 kB)\n",
      "Requirement already satisfied: jupyter_core in /Users/taylormcwilliam/anaconda3/lib/python3.11/site-packages (5.3.0)\n",
      "Collecting jupyter_core\n",
      "  Obtaining dependency information for jupyter_core from https://files.pythonhosted.org/packages/c9/fb/108ecd1fe961941959ad0ee4e12ee7b8b1477247f30b1fdfd83ceaf017f0/jupyter_core-5.7.2-py3-none-any.whl.metadata\n",
      "  Using cached jupyter_core-5.7.2-py3-none-any.whl.metadata (3.4 kB)\n",
      "Requirement already satisfied: notebook in /Users/taylormcwilliam/anaconda3/lib/python3.11/site-packages (from jupyter) (6.5.7)\n",
      "Requirement already satisfied: jupyter-console in /Users/taylormcwilliam/anaconda3/lib/python3.11/site-packages (from jupyter) (6.6.3)\n",
      "Requirement already satisfied: nbconvert in /Users/taylormcwilliam/anaconda3/lib/python3.11/site-packages (from jupyter) (6.5.4)\n",
      "Requirement already satisfied: ipykernel in /Users/taylormcwilliam/anaconda3/lib/python3.11/site-packages (from jupyter) (6.25.0)\n",
      "Requirement already satisfied: ipywidgets in /Users/taylormcwilliam/anaconda3/lib/python3.11/site-packages (from jupyter) (8.0.4)\n",
      "Requirement already satisfied: jupyterlab in /Users/taylormcwilliam/anaconda3/lib/python3.11/site-packages (from jupyter) (3.6.3)\n",
      "Requirement already satisfied: python-dateutil>=2.8.2 in /Users/taylormcwilliam/anaconda3/lib/python3.11/site-packages (from jupyter_client) (2.8.2)\n",
      "Requirement already satisfied: pyzmq>=23.0 in /Users/taylormcwilliam/anaconda3/lib/python3.11/site-packages (from jupyter_client) (23.2.0)\n",
      "Requirement already satisfied: tornado>=6.2 in /Users/taylormcwilliam/anaconda3/lib/python3.11/site-packages (from jupyter_client) (6.3.2)\n",
      "Requirement already satisfied: traitlets>=5.3 in /Users/taylormcwilliam/anaconda3/lib/python3.11/site-packages (from jupyter_client) (5.7.1)\n",
      "Requirement already satisfied: platformdirs>=2.5 in /Users/taylormcwilliam/anaconda3/lib/python3.11/site-packages (from jupyter_core) (3.10.0)\n",
      "Requirement already satisfied: six>=1.5 in /Users/taylormcwilliam/anaconda3/lib/python3.11/site-packages (from python-dateutil>=2.8.2->jupyter_client) (1.16.0)\n",
      "Requirement already satisfied: appnope in /Users/taylormcwilliam/anaconda3/lib/python3.11/site-packages (from ipykernel->jupyter) (0.1.2)\n",
      "Requirement already satisfied: comm>=0.1.1 in /Users/taylormcwilliam/anaconda3/lib/python3.11/site-packages (from ipykernel->jupyter) (0.1.2)\n",
      "Requirement already satisfied: debugpy>=1.6.5 in /Users/taylormcwilliam/anaconda3/lib/python3.11/site-packages (from ipykernel->jupyter) (1.6.7)\n",
      "Requirement already satisfied: ipython>=7.23.1 in /Users/taylormcwilliam/anaconda3/lib/python3.11/site-packages (from ipykernel->jupyter) (8.15.0)\n",
      "Requirement already satisfied: matplotlib-inline>=0.1 in /Users/taylormcwilliam/anaconda3/lib/python3.11/site-packages (from ipykernel->jupyter) (0.1.6)\n",
      "Requirement already satisfied: nest-asyncio in /Users/taylormcwilliam/anaconda3/lib/python3.11/site-packages (from ipykernel->jupyter) (1.5.6)\n",
      "Requirement already satisfied: packaging in /Users/taylormcwilliam/anaconda3/lib/python3.11/site-packages (from ipykernel->jupyter) (23.1)\n",
      "Requirement already satisfied: psutil in /Users/taylormcwilliam/anaconda3/lib/python3.11/site-packages (from ipykernel->jupyter) (5.9.0)\n",
      "Requirement already satisfied: widgetsnbextension~=4.0 in /Users/taylormcwilliam/anaconda3/lib/python3.11/site-packages (from ipywidgets->jupyter) (4.0.5)\n",
      "Requirement already satisfied: jupyterlab-widgets~=3.0 in /Users/taylormcwilliam/anaconda3/lib/python3.11/site-packages (from ipywidgets->jupyter) (3.0.5)\n",
      "Requirement already satisfied: prompt-toolkit>=3.0.30 in /Users/taylormcwilliam/anaconda3/lib/python3.11/site-packages (from jupyter-console->jupyter) (3.0.36)\n",
      "Requirement already satisfied: pygments in /Users/taylormcwilliam/anaconda3/lib/python3.11/site-packages (from jupyter-console->jupyter) (2.15.1)\n",
      "Requirement already satisfied: jupyterlab-server~=2.19 in /Users/taylormcwilliam/anaconda3/lib/python3.11/site-packages (from jupyterlab->jupyter) (2.22.0)\n",
      "Requirement already satisfied: jupyter-server<3,>=1.16.0 in /Users/taylormcwilliam/anaconda3/lib/python3.11/site-packages (from jupyterlab->jupyter) (1.23.4)\n",
      "Requirement already satisfied: jupyter-ydoc~=0.2.3 in /Users/taylormcwilliam/anaconda3/lib/python3.11/site-packages (from jupyterlab->jupyter) (0.2.4)\n",
      "Requirement already satisfied: jupyter-server-ydoc~=0.8.0 in /Users/taylormcwilliam/anaconda3/lib/python3.11/site-packages (from jupyterlab->jupyter) (0.8.0)\n",
      "Requirement already satisfied: nbclassic in /Users/taylormcwilliam/anaconda3/lib/python3.11/site-packages (from jupyterlab->jupyter) (0.5.5)\n",
      "Requirement already satisfied: jinja2>=2.1 in /Users/taylormcwilliam/anaconda3/lib/python3.11/site-packages (from jupyterlab->jupyter) (3.1.2)\n",
      "Requirement already satisfied: argon2-cffi in /Users/taylormcwilliam/anaconda3/lib/python3.11/site-packages (from notebook->jupyter) (21.3.0)\n",
      "Requirement already satisfied: ipython-genutils in /Users/taylormcwilliam/anaconda3/lib/python3.11/site-packages (from notebook->jupyter) (0.2.0)\n",
      "Requirement already satisfied: nbformat in /Users/taylormcwilliam/anaconda3/lib/python3.11/site-packages (from notebook->jupyter) (5.9.2)\n",
      "Requirement already satisfied: Send2Trash>=1.8.0 in /Users/taylormcwilliam/anaconda3/lib/python3.11/site-packages (from notebook->jupyter) (1.8.0)\n",
      "Requirement already satisfied: terminado>=0.8.3 in /Users/taylormcwilliam/anaconda3/lib/python3.11/site-packages (from notebook->jupyter) (0.17.1)\n",
      "Requirement already satisfied: prometheus-client in /Users/taylormcwilliam/anaconda3/lib/python3.11/site-packages (from notebook->jupyter) (0.14.1)\n",
      "Requirement already satisfied: entrypoints in /Users/taylormcwilliam/anaconda3/lib/python3.11/site-packages (from jupyter_client) (0.4)\n",
      "Requirement already satisfied: lxml in /Users/taylormcwilliam/anaconda3/lib/python3.11/site-packages (from nbconvert->jupyter) (4.9.3)\n",
      "Requirement already satisfied: beautifulsoup4 in /Users/taylormcwilliam/anaconda3/lib/python3.11/site-packages (from nbconvert->jupyter) (4.12.2)\n",
      "Requirement already satisfied: bleach in /Users/taylormcwilliam/anaconda3/lib/python3.11/site-packages (from nbconvert->jupyter) (4.1.0)\n",
      "Requirement already satisfied: defusedxml in /Users/taylormcwilliam/anaconda3/lib/python3.11/site-packages (from nbconvert->jupyter) (0.7.1)\n",
      "Requirement already satisfied: jupyterlab-pygments in /Users/taylormcwilliam/anaconda3/lib/python3.11/site-packages (from nbconvert->jupyter) (0.1.2)\n",
      "Requirement already satisfied: MarkupSafe>=2.0 in /Users/taylormcwilliam/anaconda3/lib/python3.11/site-packages (from nbconvert->jupyter) (2.1.1)\n",
      "Requirement already satisfied: mistune<2,>=0.8.1 in /Users/taylormcwilliam/anaconda3/lib/python3.11/site-packages (from nbconvert->jupyter) (0.8.4)\n",
      "Requirement already satisfied: nbclient>=0.5.0 in /Users/taylormcwilliam/anaconda3/lib/python3.11/site-packages (from nbconvert->jupyter) (0.5.13)\n",
      "Requirement already satisfied: pandocfilters>=1.4.1 in /Users/taylormcwilliam/anaconda3/lib/python3.11/site-packages (from nbconvert->jupyter) (1.5.0)\n",
      "Requirement already satisfied: tinycss2 in /Users/taylormcwilliam/anaconda3/lib/python3.11/site-packages (from nbconvert->jupyter) (1.2.1)\n",
      "Requirement already satisfied: backcall in /Users/taylormcwilliam/anaconda3/lib/python3.11/site-packages (from ipython>=7.23.1->ipykernel->jupyter) (0.2.0)\n",
      "Requirement already satisfied: decorator in /Users/taylormcwilliam/anaconda3/lib/python3.11/site-packages (from ipython>=7.23.1->ipykernel->jupyter) (4.4.2)\n",
      "Requirement already satisfied: jedi>=0.16 in /Users/taylormcwilliam/anaconda3/lib/python3.11/site-packages (from ipython>=7.23.1->ipykernel->jupyter) (0.18.1)\n",
      "Requirement already satisfied: pickleshare in /Users/taylormcwilliam/anaconda3/lib/python3.11/site-packages (from ipython>=7.23.1->ipykernel->jupyter) (0.7.5)\n",
      "Requirement already satisfied: stack-data in /Users/taylormcwilliam/anaconda3/lib/python3.11/site-packages (from ipython>=7.23.1->ipykernel->jupyter) (0.2.0)\n",
      "Requirement already satisfied: pexpect>4.3 in /Users/taylormcwilliam/anaconda3/lib/python3.11/site-packages (from ipython>=7.23.1->ipykernel->jupyter) (4.8.0)\n",
      "Requirement already satisfied: anyio<4,>=3.1.0 in /Users/taylormcwilliam/anaconda3/lib/python3.11/site-packages (from jupyter-server<3,>=1.16.0->jupyterlab->jupyter) (3.5.0)\n",
      "Requirement already satisfied: websocket-client in /Users/taylormcwilliam/anaconda3/lib/python3.11/site-packages (from jupyter-server<3,>=1.16.0->jupyterlab->jupyter) (0.58.0)\n",
      "Requirement already satisfied: jupyter-server-fileid<1,>=0.6.0 in /Users/taylormcwilliam/anaconda3/lib/python3.11/site-packages (from jupyter-server-ydoc~=0.8.0->jupyterlab->jupyter) (0.9.0)\n",
      "Requirement already satisfied: ypy-websocket<0.9.0,>=0.8.2 in /Users/taylormcwilliam/anaconda3/lib/python3.11/site-packages (from jupyter-server-ydoc~=0.8.0->jupyterlab->jupyter) (0.8.2)\n",
      "Requirement already satisfied: y-py<0.6.0,>=0.5.3 in /Users/taylormcwilliam/anaconda3/lib/python3.11/site-packages (from jupyter-ydoc~=0.2.3->jupyterlab->jupyter) (0.5.9)\n",
      "Requirement already satisfied: babel>=2.10 in /Users/taylormcwilliam/anaconda3/lib/python3.11/site-packages (from jupyterlab-server~=2.19->jupyterlab->jupyter) (2.11.0)\n"
     ]
    },
    {
     "name": "stdout",
     "output_type": "stream",
     "text": [
      "Requirement already satisfied: json5>=0.9.0 in /Users/taylormcwilliam/anaconda3/lib/python3.11/site-packages (from jupyterlab-server~=2.19->jupyterlab->jupyter) (0.9.6)\n",
      "Requirement already satisfied: jsonschema>=4.17.3 in /Users/taylormcwilliam/anaconda3/lib/python3.11/site-packages (from jupyterlab-server~=2.19->jupyterlab->jupyter) (4.17.3)\n",
      "Requirement already satisfied: requests>=2.28 in /Users/taylormcwilliam/anaconda3/lib/python3.11/site-packages (from jupyterlab-server~=2.19->jupyterlab->jupyter) (2.31.0)\n",
      "Requirement already satisfied: notebook-shim>=0.1.0 in /Users/taylormcwilliam/anaconda3/lib/python3.11/site-packages (from nbclassic->jupyterlab->jupyter) (0.2.2)\n",
      "Requirement already satisfied: fastjsonschema in /Users/taylormcwilliam/anaconda3/lib/python3.11/site-packages (from nbformat->notebook->jupyter) (2.16.2)\n",
      "Requirement already satisfied: wcwidth in /Users/taylormcwilliam/anaconda3/lib/python3.11/site-packages (from prompt-toolkit>=3.0.30->jupyter-console->jupyter) (0.2.5)\n",
      "Requirement already satisfied: ptyprocess in /Users/taylormcwilliam/anaconda3/lib/python3.11/site-packages (from terminado>=0.8.3->notebook->jupyter) (0.7.0)\n",
      "Requirement already satisfied: argon2-cffi-bindings in /Users/taylormcwilliam/anaconda3/lib/python3.11/site-packages (from argon2-cffi->notebook->jupyter) (21.2.0)\n",
      "Requirement already satisfied: soupsieve>1.2 in /Users/taylormcwilliam/anaconda3/lib/python3.11/site-packages (from beautifulsoup4->nbconvert->jupyter) (2.4)\n",
      "Requirement already satisfied: webencodings in /Users/taylormcwilliam/anaconda3/lib/python3.11/site-packages (from bleach->nbconvert->jupyter) (0.5.1)\n",
      "Requirement already satisfied: idna>=2.8 in /Users/taylormcwilliam/anaconda3/lib/python3.11/site-packages (from anyio<4,>=3.1.0->jupyter-server<3,>=1.16.0->jupyterlab->jupyter) (3.4)\n",
      "Requirement already satisfied: sniffio>=1.1 in /Users/taylormcwilliam/anaconda3/lib/python3.11/site-packages (from anyio<4,>=3.1.0->jupyter-server<3,>=1.16.0->jupyterlab->jupyter) (1.2.0)\n",
      "Requirement already satisfied: pytz>=2015.7 in /Users/taylormcwilliam/anaconda3/lib/python3.11/site-packages (from babel>=2.10->jupyterlab-server~=2.19->jupyterlab->jupyter) (2023.3.post1)\n",
      "Requirement already satisfied: parso<0.9.0,>=0.8.0 in /Users/taylormcwilliam/anaconda3/lib/python3.11/site-packages (from jedi>=0.16->ipython>=7.23.1->ipykernel->jupyter) (0.8.3)\n",
      "Requirement already satisfied: attrs>=17.4.0 in /Users/taylormcwilliam/anaconda3/lib/python3.11/site-packages (from jsonschema>=4.17.3->jupyterlab-server~=2.19->jupyterlab->jupyter) (22.1.0)\n",
      "Requirement already satisfied: pyrsistent!=0.17.0,!=0.17.1,!=0.17.2,>=0.14.0 in /Users/taylormcwilliam/anaconda3/lib/python3.11/site-packages (from jsonschema>=4.17.3->jupyterlab-server~=2.19->jupyterlab->jupyter) (0.18.0)\n",
      "Requirement already satisfied: jupyter-events>=0.5.0 in /Users/taylormcwilliam/anaconda3/lib/python3.11/site-packages (from jupyter-server-fileid<1,>=0.6.0->jupyter-server-ydoc~=0.8.0->jupyterlab->jupyter) (0.6.3)\n",
      "Requirement already satisfied: charset-normalizer<4,>=2 in /Users/taylormcwilliam/anaconda3/lib/python3.11/site-packages (from requests>=2.28->jupyterlab-server~=2.19->jupyterlab->jupyter) (2.0.4)\n",
      "Requirement already satisfied: urllib3<3,>=1.21.1 in /Users/taylormcwilliam/anaconda3/lib/python3.11/site-packages (from requests>=2.28->jupyterlab-server~=2.19->jupyterlab->jupyter) (1.26.16)\n",
      "Requirement already satisfied: certifi>=2017.4.17 in /Users/taylormcwilliam/anaconda3/lib/python3.11/site-packages (from requests>=2.28->jupyterlab-server~=2.19->jupyterlab->jupyter) (2024.12.14)\n",
      "Requirement already satisfied: aiofiles<23,>=22.1.0 in /Users/taylormcwilliam/anaconda3/lib/python3.11/site-packages (from ypy-websocket<0.9.0,>=0.8.2->jupyter-server-ydoc~=0.8.0->jupyterlab->jupyter) (22.1.0)\n",
      "Requirement already satisfied: aiosqlite<1,>=0.17.0 in /Users/taylormcwilliam/anaconda3/lib/python3.11/site-packages (from ypy-websocket<0.9.0,>=0.8.2->jupyter-server-ydoc~=0.8.0->jupyterlab->jupyter) (0.18.0)\n",
      "Requirement already satisfied: cffi>=1.0.1 in /Users/taylormcwilliam/anaconda3/lib/python3.11/site-packages (from argon2-cffi-bindings->argon2-cffi->notebook->jupyter) (1.15.1)\n",
      "Requirement already satisfied: executing in /Users/taylormcwilliam/anaconda3/lib/python3.11/site-packages (from stack-data->ipython>=7.23.1->ipykernel->jupyter) (0.8.3)\n",
      "Requirement already satisfied: asttokens in /Users/taylormcwilliam/anaconda3/lib/python3.11/site-packages (from stack-data->ipython>=7.23.1->ipykernel->jupyter) (2.0.5)\n",
      "Requirement already satisfied: pure-eval in /Users/taylormcwilliam/anaconda3/lib/python3.11/site-packages (from stack-data->ipython>=7.23.1->ipykernel->jupyter) (0.2.2)\n",
      "Requirement already satisfied: pycparser in /Users/taylormcwilliam/anaconda3/lib/python3.11/site-packages (from cffi>=1.0.1->argon2-cffi-bindings->argon2-cffi->notebook->jupyter) (2.21)\n",
      "Requirement already satisfied: python-json-logger>=2.0.4 in /Users/taylormcwilliam/anaconda3/lib/python3.11/site-packages (from jupyter-events>=0.5.0->jupyter-server-fileid<1,>=0.6.0->jupyter-server-ydoc~=0.8.0->jupyterlab->jupyter) (2.0.7)\n",
      "Requirement already satisfied: pyyaml>=5.3 in /Users/taylormcwilliam/anaconda3/lib/python3.11/site-packages (from jupyter-events>=0.5.0->jupyter-server-fileid<1,>=0.6.0->jupyter-server-ydoc~=0.8.0->jupyterlab->jupyter) (6.0.1)\n",
      "Requirement already satisfied: rfc3339-validator in /Users/taylormcwilliam/anaconda3/lib/python3.11/site-packages (from jupyter-events>=0.5.0->jupyter-server-fileid<1,>=0.6.0->jupyter-server-ydoc~=0.8.0->jupyterlab->jupyter) (0.1.4)\n",
      "Requirement already satisfied: rfc3986-validator>=0.1.1 in /Users/taylormcwilliam/anaconda3/lib/python3.11/site-packages (from jupyter-events>=0.5.0->jupyter-server-fileid<1,>=0.6.0->jupyter-server-ydoc~=0.8.0->jupyterlab->jupyter) (0.1.1)\n",
      "Collecting fqdn (from jsonschema>=4.17.3->jupyterlab-server~=2.19->jupyterlab->jupyter)\n",
      "  Obtaining dependency information for fqdn from https://files.pythonhosted.org/packages/cf/58/8acf1b3e91c58313ce5cb67df61001fc9dcd21be4fadb76c1a2d540e09ed/fqdn-1.5.1-py3-none-any.whl.metadata\n",
      "  Downloading fqdn-1.5.1-py3-none-any.whl.metadata (1.4 kB)\n",
      "Collecting isoduration (from jsonschema>=4.17.3->jupyterlab-server~=2.19->jupyterlab->jupyter)\n",
      "  Obtaining dependency information for isoduration from https://files.pythonhosted.org/packages/7b/55/e5326141505c5d5e34c5e0935d2908a74e4561eca44108fbfb9c13d2911a/isoduration-20.11.0-py3-none-any.whl.metadata\n",
      "  Downloading isoduration-20.11.0-py3-none-any.whl.metadata (5.7 kB)\n",
      "Requirement already satisfied: jsonpointer>1.13 in /Users/taylormcwilliam/anaconda3/lib/python3.11/site-packages (from jsonschema>=4.17.3->jupyterlab-server~=2.19->jupyterlab->jupyter) (2.1)\n",
      "Collecting uri-template (from jsonschema>=4.17.3->jupyterlab-server~=2.19->jupyterlab->jupyter)\n",
      "  Obtaining dependency information for uri-template from https://files.pythonhosted.org/packages/e7/00/3fca040d7cf8a32776d3d81a00c8ee7457e00f80c649f1e4a863c8321ae9/uri_template-1.3.0-py3-none-any.whl.metadata\n",
      "  Downloading uri_template-1.3.0-py3-none-any.whl.metadata (8.8 kB)\n",
      "Collecting webcolors>=1.11 (from jsonschema>=4.17.3->jupyterlab-server~=2.19->jupyterlab->jupyter)\n",
      "  Obtaining dependency information for webcolors>=1.11 from https://files.pythonhosted.org/packages/60/e8/c0e05e4684d13459f93d312077a9a2efbe04d59c393bc2b8802248c908d4/webcolors-24.11.1-py3-none-any.whl.metadata\n",
      "  Downloading webcolors-24.11.1-py3-none-any.whl.metadata (2.2 kB)\n",
      "Requirement already satisfied: arrow>=0.15.0 in /Users/taylormcwilliam/anaconda3/lib/python3.11/site-packages (from isoduration->jsonschema>=4.17.3->jupyterlab-server~=2.19->jupyterlab->jupyter) (1.2.3)\n",
      "Downloading jupyter-1.1.1-py2.py3-none-any.whl (2.7 kB)\n",
      "Using cached jupyter_core-5.7.2-py3-none-any.whl (28 kB)\n",
      "Downloading webcolors-24.11.1-py3-none-any.whl (14 kB)\n",
      "Downloading fqdn-1.5.1-py3-none-any.whl (9.1 kB)\n",
      "Downloading isoduration-20.11.0-py3-none-any.whl (11 kB)\n",
      "Downloading uri_template-1.3.0-py3-none-any.whl (11 kB)\n",
      "Installing collected packages: webcolors, uri-template, jupyter_core, fqdn, isoduration, jupyter\n",
      "  Attempting uninstall: jupyter_core\n",
      "    Found existing installation: jupyter_core 5.3.0\n",
      "    Uninstalling jupyter_core-5.3.0:\n"
     ]
    },
    {
     "name": "stdout",
     "output_type": "stream",
     "text": [
      "      Successfully uninstalled jupyter_core-5.3.0\n",
      "  Attempting uninstall: jupyter\n",
      "    Found existing installation: jupyter 1.0.0\n",
      "    Uninstalling jupyter-1.0.0:\n",
      "      Successfully uninstalled jupyter-1.0.0\n",
      "Successfully installed fqdn-1.5.1 isoduration-20.11.0 jupyter-1.1.1 jupyter_core-5.7.2 uri-template-1.3.0 webcolors-24.11.1\n",
      "Note: you may need to restart the kernel to use updated packages.\n"
     ]
    }
   ],
   "source": [
    "pip install --upgrade jupyter jupyter_client jupyter_core\n"
   ]
  },
  {
   "cell_type": "code",
   "execution_count": 23,
   "id": "01535bde",
   "metadata": {
    "scrolled": true
   },
   "outputs": [
    {
     "name": "stdout",
     "output_type": "stream",
     "text": [
      " * Serving Flask app '__main__'\n",
      " * Debug mode: on\n"
     ]
    },
    {
     "name": "stderr",
     "output_type": "stream",
     "text": [
      "WARNING: This is a development server. Do not use it in a production deployment. Use a production WSGI server instead.\n",
      " * Running on http://127.0.0.1:5000\n",
      "Press CTRL+C to quit\n",
      " * Restarting with watchdog (fsevents)\n",
      "Traceback (most recent call last):\n",
      "  File \"/Users/taylormcwilliam/anaconda3/lib/python3.11/site-packages/ipykernel_launcher.py\", line 15, in <module>\n",
      "    from ipykernel import kernelapp as app\n",
      "  File \"/Users/taylormcwilliam/anaconda3/lib/python3.11/site-packages/ipykernel/__init__.py\", line 5, in <module>\n",
      "    from .connect import *  # noqa\n",
      "    ^^^^^^^^^^^^^^^^^^^^^^\n",
      "  File \"/Users/taylormcwilliam/anaconda3/lib/python3.11/site-packages/ipykernel/connect.py\", line 11, in <module>\n",
      "    import jupyter_client\n",
      "  File \"/Users/taylormcwilliam/anaconda3/lib/python3.11/site-packages/jupyter_client/__init__.py\", line 8, in <module>\n",
      "    from .asynchronous import AsyncKernelClient  # noqa\n",
      "    ^^^^^^^^^^^^^^^^^^^^^^^^^^^^^^^^^^^^^^^^^^^\n",
      "  File \"/Users/taylormcwilliam/anaconda3/lib/python3.11/site-packages/jupyter_client/asynchronous/__init__.py\", line 1, in <module>\n",
      "    from .client import AsyncKernelClient  # noqa\n",
      "    ^^^^^^^^^^^^^^^^^^^^^^^^^^^^^^^^^^^^^\n",
      "  File \"/Users/taylormcwilliam/anaconda3/lib/python3.11/site-packages/jupyter_client/asynchronous/client.py\", line 8, in <module>\n",
      "    from jupyter_client.client import KernelClient\n",
      "  File \"/Users/taylormcwilliam/anaconda3/lib/python3.11/site-packages/jupyter_client/client.py\", line 22, in <module>\n",
      "    from .connect import ConnectionFileMixin\n",
      "  File \"/Users/taylormcwilliam/anaconda3/lib/python3.11/site-packages/jupyter_client/connect.py\", line 27, in <module>\n",
      "    from jupyter_core.paths import jupyter_data_dir\n",
      "  File \"/Users/taylormcwilliam/anaconda3/lib/python3.11/site-packages/jupyter_core/paths.py\", line 19, in <module>\n",
      "    from pathlib import Path\n",
      "  File \"/Users/taylormcwilliam/anaconda3/lib/python3.11/site-packages/pathlib.py\", line 10, in <module>\n",
      "    from collections import Sequence\n",
      "ImportError: cannot import name 'Sequence' from 'collections' (/Users/taylormcwilliam/anaconda3/lib/python3.11/collections/__init__.py)\n"
     ]
    },
    {
     "ename": "SystemExit",
     "evalue": "1",
     "output_type": "error",
     "traceback": [
      "An exception has occurred, use %tb to see the full traceback.\n",
      "\u001b[0;31mSystemExit\u001b[0m\u001b[0;31m:\u001b[0m 1\n"
     ]
    }
   ],
   "source": [
    "from flask import Flask, request, jsonify\n",
    "import pickle\n",
    "\n",
    "# Load the trained model\n",
    "with open('fraud_detection_model.pkl', 'rb') as f:\n",
    "    model = pickle.load(f)\n",
    "\n",
    "app = Flask(__name__)\n",
    "\n",
    "@app.route('/predict', methods=['POST'])\n",
    "def predict():\n",
    "    data = request.json\n",
    "    features = [data['amount'], data['hour_of_day'], data['day_of_week'], data['amount_deviation'], data['transaction_count']]\n",
    "    prediction = model.predict([features])\n",
    "    return jsonify({'is_fraud': int(prediction[0])})\n",
    "\n",
    "if __name__ == '__main__':\n",
    "    app.run(debug=True)"
   ]
  },
  {
   "cell_type": "code",
   "execution_count": null,
   "id": "d40ed9ef",
   "metadata": {},
   "outputs": [],
   "source": []
  }
 ],
 "metadata": {
  "kernelspec": {
   "display_name": "Python 3 (ipykernel)",
   "language": "python",
   "name": "python3"
  },
  "language_info": {
   "codemirror_mode": {
    "name": "ipython",
    "version": 3
   },
   "file_extension": ".py",
   "mimetype": "text/x-python",
   "name": "python",
   "nbconvert_exporter": "python",
   "pygments_lexer": "ipython3",
   "version": "3.11.5"
  }
 },
 "nbformat": 4,
 "nbformat_minor": 5
}
